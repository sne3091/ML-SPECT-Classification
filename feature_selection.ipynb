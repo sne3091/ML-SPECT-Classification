{
 "cells": [
  {
   "cell_type": "code",
   "execution_count": 27,
   "metadata": {
    "collapsed": true
   },
   "outputs": [],
   "source": [
    "# Feature Extraction with Univariate Statistical Tests (Chi-squared for classification)\n",
    "import pandas as pd\n",
    "import numpy as np\n",
    "from sklearn.feature_selection import SelectKBest\n",
    "from sklearn.feature_selection import chi2"
   ]
  },
  {
   "cell_type": "code",
   "execution_count": 53,
   "metadata": {
    "collapsed": false
   },
   "outputs": [],
   "source": [
    "data = pd.read_csv('DL-Raw-Baseline.csv')"
   ]
  },
  {
   "cell_type": "code",
   "execution_count": 54,
   "metadata": {
    "collapsed": false
   },
   "outputs": [],
   "source": [
    "data = data.fillna(0)\n",
    "Y = data['Class'].values\n",
    "X = data.drop('Class',axis=1).values\n",
    "test = SelectKBest(score_func=chi2, k=20)\n",
    "fit = test.fit(X, Y)\n",
    "features_baseline = fit.transform(X)"
   ]
  },
  {
   "cell_type": "code",
   "execution_count": 55,
   "metadata": {
    "collapsed": false
   },
   "outputs": [],
   "source": [
    "data_selected = pd.DataFrame(features_baseline)"
   ]
  },
  {
   "cell_type": "code",
   "execution_count": 56,
   "metadata": {
    "collapsed": false
   },
   "outputs": [],
   "source": [
    "data_selected['Class'] = Y"
   ]
  },
  {
   "cell_type": "code",
   "execution_count": 57,
   "metadata": {
    "collapsed": false
   },
   "outputs": [],
   "source": [
    "from sklearn.cross_validation import train_test_split\n",
    "train, test = train_test_split(data_selected, test_size = 0.2)"
   ]
  },
  {
   "cell_type": "code",
   "execution_count": 58,
   "metadata": {
    "collapsed": false
   },
   "outputs": [
    {
     "data": {
      "text/plain": [
       "(2, 1714)"
      ]
     },
     "execution_count": 58,
     "metadata": {},
     "output_type": "execute_result"
    }
   ],
   "source": [
    "H_train = np.zeros((2, train.shape[0]))\n",
    "for index, class_label in enumerate(train['Class']):\n",
    "    if class_label == 0:\n",
    "        H_train[0, index] = 1\n",
    "    elif class_label == 1:\n",
    "        H_train[1, index] = 1\n",
    "np.savetxt('H_train_feat.csv',H_train,delimiter=',')\n",
    "H_train.shape"
   ]
  },
  {
   "cell_type": "code",
   "execution_count": 59,
   "metadata": {
    "collapsed": false
   },
   "outputs": [
    {
     "data": {
      "text/plain": [
       "(2, 429)"
      ]
     },
     "execution_count": 59,
     "metadata": {},
     "output_type": "execute_result"
    }
   ],
   "source": [
    "H_test = np.zeros((2, test.shape[0]))\n",
    "for index, class_label in enumerate(test['Class']):\n",
    "    if class_label == 0:\n",
    "        H_test[0, index] = 1\n",
    "    elif class_label == 1:\n",
    "        H_test[1, index] = 1\n",
    "np.savetxt('H_test_feat.csv',H_test,delimiter=',')\n",
    "H_test.shape"
   ]
  },
  {
   "cell_type": "code",
   "execution_count": 60,
   "metadata": {
    "collapsed": true
   },
   "outputs": [],
   "source": [
    "train = train.drop('Class', 1)\n",
    "test = test.drop('Class', 1)\n",
    "new_train = train.T\n",
    "new_train.to_csv(\"train_feat.csv\", header=False, index=False)\n",
    "new_test = test.T\n",
    "new_test.to_csv(\"test_feat.csv\",header=False, index=False)"
   ]
  }
 ],
 "metadata": {
  "anaconda-cloud": {},
  "kernelspec": {
   "display_name": "Python [conda root]",
   "language": "python",
   "name": "conda-root-py"
  },
  "language_info": {
   "codemirror_mode": {
    "name": "ipython",
    "version": 2
   },
   "file_extension": ".py",
   "mimetype": "text/x-python",
   "name": "python",
   "nbconvert_exporter": "python",
   "pygments_lexer": "ipython2",
   "version": "2.7.12"
  }
 },
 "nbformat": 4,
 "nbformat_minor": 1
}
