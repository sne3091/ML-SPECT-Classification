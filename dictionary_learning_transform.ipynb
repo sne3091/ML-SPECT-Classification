{
 "cells": [
  {
   "cell_type": "code",
   "execution_count": 1,
   "metadata": {
    "collapsed": false
   },
   "outputs": [],
   "source": [
    "import numpy as np"
   ]
  },
  {
   "cell_type": "code",
   "execution_count": 2,
   "metadata": {
    "collapsed": false
   },
   "outputs": [],
   "source": [
    "import sklearn as sk"
   ]
  },
  {
   "cell_type": "code",
   "execution_count": 18,
   "metadata": {
    "collapsed": false
   },
   "outputs": [],
   "source": [
    "import pandas as pd\n",
    "from sklearn.cross_validation import train_test_split"
   ]
  },
  {
   "cell_type": "code",
   "execution_count": 25,
   "metadata": {
    "collapsed": false
   },
   "outputs": [],
   "source": [
    "df = pd.read_csv(\"PTSD_None_Baseline.csv\")"
   ]
  },
  {
   "cell_type": "code",
   "execution_count": 26,
   "metadata": {
    "collapsed": false
   },
   "outputs": [
    {
     "data": {
      "text/html": [
       "<div>\n",
       "<table border=\"1\" class=\"dataframe\">\n",
       "  <thead>\n",
       "    <tr style=\"text-align: right;\">\n",
       "      <th></th>\n",
       "      <th>R_A_Baseline_Amygdala_L</th>\n",
       "      <th>R_A_Baseline_Amygdala_R</th>\n",
       "      <th>R_A_Baseline_Anterior_Cingulate</th>\n",
       "      <th>R_A_Baseline_Basal_Ganglia_Caudate_L</th>\n",
       "      <th>R_A_Baseline_Basal_Ganglia_Caudate_R</th>\n",
       "      <th>R_A_Baseline_Basal_Ganglia_Pallidum_L</th>\n",
       "      <th>R_A_Baseline_Basal_Ganglia_Pallidum_R</th>\n",
       "      <th>R_A_Baseline_Basal_Ganglia_Putamen_L</th>\n",
       "      <th>R_A_Baseline_Basal_Ganglia_Putamen_R</th>\n",
       "      <th>R_A_Baseline_Cerebellar_Vermis_Anterior</th>\n",
       "      <th>...</th>\n",
       "      <th>R_A_Baseline_Prefrontal_Orbital_R</th>\n",
       "      <th>R_A_Baseline_Prefrontal_Pole_L</th>\n",
       "      <th>R_A_Baseline_Prefrontal_Pole_R</th>\n",
       "      <th>R_A_Baseline_Temporal_Lobe_L</th>\n",
       "      <th>R_A_Baseline_Temporal_Lobe_R</th>\n",
       "      <th>R_A_Baseline_Temporal_Pole_L</th>\n",
       "      <th>R_A_Baseline_Temporal_Pole_R</th>\n",
       "      <th>R_A_Baseline_Thalamo_Limbic_Focal_L</th>\n",
       "      <th>R_A_Baseline_Thalamo_Limbic_Focal_R</th>\n",
       "      <th>Class</th>\n",
       "    </tr>\n",
       "  </thead>\n",
       "  <tbody>\n",
       "    <tr>\n",
       "      <th>0</th>\n",
       "      <td>115.740787</td>\n",
       "      <td>121.274800</td>\n",
       "      <td>127.644549</td>\n",
       "      <td>104.604780</td>\n",
       "      <td>119.435755</td>\n",
       "      <td>150.181830</td>\n",
       "      <td>157.724841</td>\n",
       "      <td>147.481141</td>\n",
       "      <td>143.266572</td>\n",
       "      <td>121.137492</td>\n",
       "      <td>...</td>\n",
       "      <td>91.790124</td>\n",
       "      <td>67.948658</td>\n",
       "      <td>62.34024658</td>\n",
       "      <td>112.690600</td>\n",
       "      <td>95.675014</td>\n",
       "      <td>72.254977</td>\n",
       "      <td>69.664102</td>\n",
       "      <td>140.619601</td>\n",
       "      <td>138.308018</td>\n",
       "      <td>0</td>\n",
       "    </tr>\n",
       "    <tr>\n",
       "      <th>1</th>\n",
       "      <td>103.536790</td>\n",
       "      <td>111.911519</td>\n",
       "      <td>106.504331</td>\n",
       "      <td>95.841385</td>\n",
       "      <td>100.924450</td>\n",
       "      <td>130.502398</td>\n",
       "      <td>126.461626</td>\n",
       "      <td>133.855942</td>\n",
       "      <td>129.917123</td>\n",
       "      <td>114.179154</td>\n",
       "      <td>...</td>\n",
       "      <td>101.056198</td>\n",
       "      <td>94.762837</td>\n",
       "      <td>92.22123686</td>\n",
       "      <td>105.324648</td>\n",
       "      <td>95.906996</td>\n",
       "      <td>79.960710</td>\n",
       "      <td>83.923110</td>\n",
       "      <td>124.400622</td>\n",
       "      <td>125.962901</td>\n",
       "      <td>0</td>\n",
       "    </tr>\n",
       "    <tr>\n",
       "      <th>2</th>\n",
       "      <td>104.424244</td>\n",
       "      <td>108.225631</td>\n",
       "      <td>112.090977</td>\n",
       "      <td>103.218110</td>\n",
       "      <td>118.563557</td>\n",
       "      <td>126.872003</td>\n",
       "      <td>137.860917</td>\n",
       "      <td>138.713828</td>\n",
       "      <td>140.379266</td>\n",
       "      <td>114.666586</td>\n",
       "      <td>...</td>\n",
       "      <td>83.643004</td>\n",
       "      <td>104.630419</td>\n",
       "      <td>102.5848999</td>\n",
       "      <td>103.139642</td>\n",
       "      <td>93.707009</td>\n",
       "      <td>78.857097</td>\n",
       "      <td>83.895535</td>\n",
       "      <td>132.774559</td>\n",
       "      <td>124.895660</td>\n",
       "      <td>0</td>\n",
       "    </tr>\n",
       "    <tr>\n",
       "      <th>3</th>\n",
       "      <td>115.666969</td>\n",
       "      <td>119.268461</td>\n",
       "      <td>116.949636</td>\n",
       "      <td>104.684615</td>\n",
       "      <td>110.895012</td>\n",
       "      <td>134.270240</td>\n",
       "      <td>136.703806</td>\n",
       "      <td>139.573918</td>\n",
       "      <td>135.720735</td>\n",
       "      <td>113.033460</td>\n",
       "      <td>...</td>\n",
       "      <td>95.653557</td>\n",
       "      <td>96.371656</td>\n",
       "      <td>88.19744365</td>\n",
       "      <td>104.067081</td>\n",
       "      <td>94.313971</td>\n",
       "      <td>78.901413</td>\n",
       "      <td>70.285791</td>\n",
       "      <td>125.627757</td>\n",
       "      <td>122.412471</td>\n",
       "      <td>0</td>\n",
       "    </tr>\n",
       "    <tr>\n",
       "      <th>4</th>\n",
       "      <td>101.675910</td>\n",
       "      <td>96.272609</td>\n",
       "      <td>92.645106</td>\n",
       "      <td>98.776310</td>\n",
       "      <td>100.373710</td>\n",
       "      <td>107.899636</td>\n",
       "      <td>107.955864</td>\n",
       "      <td>121.762256</td>\n",
       "      <td>121.160867</td>\n",
       "      <td>105.059331</td>\n",
       "      <td>...</td>\n",
       "      <td>92.660287</td>\n",
       "      <td>93.122537</td>\n",
       "      <td>92.57456446</td>\n",
       "      <td>104.858163</td>\n",
       "      <td>96.817166</td>\n",
       "      <td>90.499095</td>\n",
       "      <td>77.777274</td>\n",
       "      <td>113.777045</td>\n",
       "      <td>115.453421</td>\n",
       "      <td>0</td>\n",
       "    </tr>\n",
       "  </tbody>\n",
       "</table>\n",
       "<p>5 rows × 42 columns</p>\n",
       "</div>"
      ],
      "text/plain": [
       "   R_A_Baseline_Amygdala_L  R_A_Baseline_Amygdala_R  \\\n",
       "0               115.740787               121.274800   \n",
       "1               103.536790               111.911519   \n",
       "2               104.424244               108.225631   \n",
       "3               115.666969               119.268461   \n",
       "4               101.675910                96.272609   \n",
       "\n",
       "   R_A_Baseline_Anterior_Cingulate  R_A_Baseline_Basal_Ganglia_Caudate_L  \\\n",
       "0                       127.644549                            104.604780   \n",
       "1                       106.504331                             95.841385   \n",
       "2                       112.090977                            103.218110   \n",
       "3                       116.949636                            104.684615   \n",
       "4                        92.645106                             98.776310   \n",
       "\n",
       "   R_A_Baseline_Basal_Ganglia_Caudate_R  \\\n",
       "0                            119.435755   \n",
       "1                            100.924450   \n",
       "2                            118.563557   \n",
       "3                            110.895012   \n",
       "4                            100.373710   \n",
       "\n",
       "   R_A_Baseline_Basal_Ganglia_Pallidum_L  \\\n",
       "0                             150.181830   \n",
       "1                             130.502398   \n",
       "2                             126.872003   \n",
       "3                             134.270240   \n",
       "4                             107.899636   \n",
       "\n",
       "   R_A_Baseline_Basal_Ganglia_Pallidum_R  \\\n",
       "0                             157.724841   \n",
       "1                             126.461626   \n",
       "2                             137.860917   \n",
       "3                             136.703806   \n",
       "4                             107.955864   \n",
       "\n",
       "   R_A_Baseline_Basal_Ganglia_Putamen_L  R_A_Baseline_Basal_Ganglia_Putamen_R  \\\n",
       "0                            147.481141                            143.266572   \n",
       "1                            133.855942                            129.917123   \n",
       "2                            138.713828                            140.379266   \n",
       "3                            139.573918                            135.720735   \n",
       "4                            121.762256                            121.160867   \n",
       "\n",
       "   R_A_Baseline_Cerebellar_Vermis_Anterior  ...    \\\n",
       "0                               121.137492  ...     \n",
       "1                               114.179154  ...     \n",
       "2                               114.666586  ...     \n",
       "3                               113.033460  ...     \n",
       "4                               105.059331  ...     \n",
       "\n",
       "   R_A_Baseline_Prefrontal_Orbital_R  R_A_Baseline_Prefrontal_Pole_L  \\\n",
       "0                          91.790124                       67.948658   \n",
       "1                         101.056198                       94.762837   \n",
       "2                          83.643004                      104.630419   \n",
       "3                          95.653557                       96.371656   \n",
       "4                          92.660287                       93.122537   \n",
       "\n",
       "   R_A_Baseline_Prefrontal_Pole_R  R_A_Baseline_Temporal_Lobe_L  \\\n",
       "0                     62.34024658                    112.690600   \n",
       "1                     92.22123686                    105.324648   \n",
       "2                     102.5848999                    103.139642   \n",
       "3                     88.19744365                    104.067081   \n",
       "4                     92.57456446                    104.858163   \n",
       "\n",
       "   R_A_Baseline_Temporal_Lobe_R  R_A_Baseline_Temporal_Pole_L  \\\n",
       "0                     95.675014                     72.254977   \n",
       "1                     95.906996                     79.960710   \n",
       "2                     93.707009                     78.857097   \n",
       "3                     94.313971                     78.901413   \n",
       "4                     96.817166                     90.499095   \n",
       "\n",
       "   R_A_Baseline_Temporal_Pole_R  R_A_Baseline_Thalamo_Limbic_Focal_L  \\\n",
       "0                     69.664102                           140.619601   \n",
       "1                     83.923110                           124.400622   \n",
       "2                     83.895535                           132.774559   \n",
       "3                     70.285791                           125.627757   \n",
       "4                     77.777274                           113.777045   \n",
       "\n",
       "   R_A_Baseline_Thalamo_Limbic_Focal_R  Class  \n",
       "0                           138.308018      0  \n",
       "1                           125.962901      0  \n",
       "2                           124.895660      0  \n",
       "3                           122.412471      0  \n",
       "4                           115.453421      0  \n",
       "\n",
       "[5 rows x 42 columns]"
      ]
     },
     "execution_count": 26,
     "metadata": {},
     "output_type": "execute_result"
    }
   ],
   "source": [
    "df.head()"
   ]
  },
  {
   "cell_type": "code",
   "execution_count": 27,
   "metadata": {
    "collapsed": false
   },
   "outputs": [],
   "source": [
    "train, test = train_test_split(df, test_size = 0.2)"
   ]
  },
  {
   "cell_type": "code",
   "execution_count": 28,
   "metadata": {
    "collapsed": false
   },
   "outputs": [
    {
     "data": {
      "text/plain": [
       "(2, 9452)"
      ]
     },
     "execution_count": 28,
     "metadata": {},
     "output_type": "execute_result"
    }
   ],
   "source": [
    "H_train = np.zeros((2, train.shape[0]))\n",
    "for index, class_label in enumerate(train['Class']):\n",
    "    if class_label == 0:\n",
    "        H_train[0, index] = 1\n",
    "    elif class_label == 1:\n",
    "        H_train[1, index] = 1\n",
    "np.savetxt('H_train_ptsdnone.csv',H_train,delimiter=',')\n",
    "H_train.shape"
   ]
  },
  {
   "cell_type": "code",
   "execution_count": 29,
   "metadata": {
    "collapsed": false
   },
   "outputs": [
    {
     "data": {
      "text/plain": [
       "(2, 2364)"
      ]
     },
     "execution_count": 29,
     "metadata": {},
     "output_type": "execute_result"
    }
   ],
   "source": [
    "H_test = np.zeros((2, test.shape[0]))\n",
    "for index, class_label in enumerate(test['Class']):\n",
    "    if class_label == 0:\n",
    "        H_test[0, index] = 1\n",
    "    elif class_label == 1:\n",
    "        H_test[1, index] = 1\n",
    "np.savetxt('H_test_ptsdnone.csv',H_test,delimiter=',')\n",
    "H_test.shape"
   ]
  },
  {
   "cell_type": "code",
   "execution_count": 30,
   "metadata": {
    "collapsed": false
   },
   "outputs": [],
   "source": [
    "train = train.drop('Class', 1)\n",
    "test = test.drop('Class', 1)\n",
    "new_train = train.T\n",
    "new_train.to_csv(\"train_ptsd_none.csv\", header=False, index=False)\n",
    "new_test = test.T\n",
    "new_test.to_csv(\"test_ptsd_none.csv\",header=False, index=False)"
   ]
  },
  {
   "cell_type": "code",
   "execution_count": 10,
   "metadata": {
    "collapsed": false
   },
   "outputs": [
    {
     "data": {
      "text/plain": [
       "(41, 429)"
      ]
     },
     "execution_count": 10,
     "metadata": {},
     "output_type": "execute_result"
    }
   ],
   "source": [
    "new_test.shape"
   ]
  },
  {
   "cell_type": "code",
   "execution_count": 11,
   "metadata": {
    "collapsed": false
   },
   "outputs": [
    {
     "data": {
      "text/plain": [
       "(41, 1714)"
      ]
     },
     "execution_count": 11,
     "metadata": {},
     "output_type": "execute_result"
    }
   ],
   "source": [
    "new_train.shape"
   ]
  },
  {
   "cell_type": "code",
   "execution_count": null,
   "metadata": {
    "collapsed": true
   },
   "outputs": [],
   "source": []
  }
 ],
 "metadata": {
  "anaconda-cloud": {},
  "kernelspec": {
   "display_name": "Python [conda root]",
   "language": "python",
   "name": "conda-root-py"
  },
  "language_info": {
   "codemirror_mode": {
    "name": "ipython",
    "version": 2
   },
   "file_extension": ".py",
   "mimetype": "text/x-python",
   "name": "python",
   "nbconvert_exporter": "python",
   "pygments_lexer": "ipython2",
   "version": "2.7.12"
  }
 },
 "nbformat": 4,
 "nbformat_minor": 0
}
